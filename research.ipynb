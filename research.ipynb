{
 "cells": [
  {
   "cell_type": "code",
   "execution_count": null,
   "metadata": {},
   "outputs": [],
   "source": [
    "import keras \n",
    "from keras.saving import serialize_keras_object\n",
    "from tensorflow.keras import utils\n",
    "from tensorflow.keras.models import Sequential\n",
    "from tensorflow.keras.layers import Dense, Flatten\n",
    "import json"
   ]
  },
  {
   "cell_type": "code",
   "execution_count": null,
   "metadata": {},
   "outputs": [],
   "source": [
    "start = datetime(2020, 1, 1)\n",
    "end = datetime(2022, 1, 1)"
   ]
  },
  {
   "cell_type": "code",
   "execution_count": null,
   "metadata": {},
   "outputs": [],
   "source": [
    "qb = QuantBook()\n",
    "symbol = qb.AddCrypto(\"BTCUSD\", Resolution.Daily).Symbol\n",
    "history = qb.History(symbol, start, end).loc[symbol]\n",
    "history.head() #previews first 5 rows"
   ]
  },
  {
   "cell_type": "code",
   "execution_count": null,
   "metadata": {},
   "outputs": [],
   "source": [
    "daily_pct_change = history[[\"open\", \"high\",\"low\",\"close\",\"volume\"]].pct_change().dropna()\n",
    "df = daily_pct_change\n",
    "df.head()"
   ]
  },
  {
   "cell_type": "code",
   "execution_count": null,
   "metadata": {},
   "outputs": [],
   "source": [
    "#remove all values of infinity and replaces with the highest finite value\n",
    "indexes = df[((df.volume == float(\"inf\")))].index\n",
    "for i in indexes:\n",
    "    df.at[i,\"volume\"]= max(df.volume.drop(indexes))"
   ]
  },
  {
   "cell_type": "code",
   "execution_count": null,
   "metadata": {},
   "outputs": [],
   "source": [
    "n_steps = 30 # Step size (data per step)\n",
    "features = [] # inputs\n",
    "labels = [] #outputs\n",
    "for i in range(len(df)-n_steps):\n",
    "    input_data = df.iloc[i:i+n_steps].values\n",
    "    features.append(input_data)\n",
    "    if df['close'].iloc[i+n_steps] >= 0:\n",
    "        #up\n",
    "        label = 1\n",
    "    else:\n",
    "        #down\n",
    "        label = 0\n",
    "    labels.append(label)        "
   ]
  },
  {
   "cell_type": "code",
   "execution_count": null,
   "metadata": {},
   "outputs": [],
   "source": [
    "features = np.array(features) # convert to desired input type\n",
    "labels = np.array(labels) "
   ]
  },
  {
   "cell_type": "code",
   "execution_count": null,
   "metadata": {},
   "outputs": [],
   "source": [
    "train_length = int(len(features) * 0.7)  #split the data for training and testing \n",
    "x_train = features[:train_length]\n",
    "x_test = features[train_length:]\n",
    "y_train = labels[:train_length]\n",
    "y_test = labels[train_length:]"
   ]
  },
  {
   "cell_type": "code",
   "execution_count": null,
   "metadata": {},
   "outputs": [],
   "source": [
    "#number of up vs down days in training data should be relatively balanced\n",
    "sum(y_train)/len(y_train)"
   ]
  },
  {
   "cell_type": "code",
   "execution_count": null,
   "metadata": {},
   "outputs": [],
   "source": [
    "# use second part of data for testing instead\n",
    "test_length = int(len(features) * 0.3)  #split the data for training and testing \n",
    "x_train = features[test_length:]\n",
    "x_test = features[:test_length]\n",
    "y_train = labels[test_length:]\n",
    "y_test = labels[:test_length]"
   ]
  },
  {
   "cell_type": "code",
   "execution_count": null,
   "metadata": {},
   "outputs": [],
   "source": [
    "sum(y_train)/len(y_train)"
   ]
  },
  {
   "cell_type": "code",
   "execution_count": null,
   "metadata": {},
   "outputs": [],
   "source": [
    "#                       features, shape, relu gets rid of negative\n",
    "model = Sequential([Dense(30, input_shape = x_train[0].shape, activation='relu'),\n",
    "                    Dense(20, activation = 'relu'),\n",
    "                    Flatten(),\n",
    "                    Dense(1, activation = 'sigmoid')])\n"
   ]
  },
  {
   "cell_type": "code",
   "execution_count": null,
   "metadata": {},
   "outputs": [],
   "source": [
    "model.compile(loss ='binary_crossentropy',\n",
    "               optimizer = 'adam',\n",
    "               metrics = ['accuracy', 'mse'])\n"
   ]
  },
  {
   "cell_type": "code",
   "execution_count": null,
   "metadata": {},
   "outputs": [],
   "source": [
    "model.fit(x_train, y_train, epochs = 40)"
   ]
  },
  {
   "cell_type": "code",
   "execution_count": null,
   "metadata": {},
   "outputs": [],
   "source": [
    "y_hat = model.predict(x_test)"
   ]
  },
  {
   "cell_type": "code",
   "execution_count": null,
   "metadata": {},
   "outputs": [],
   "source": [
    "results = pd.DataFrame({'y': y_test.flatten(), 'y_hat': y_hat.flatten()})"
   ]
  },
  {
   "cell_type": "code",
   "execution_count": null,
   "metadata": {},
   "outputs": [],
   "source": [
    "results.plot(title = 'Model Performance: predicted vs actual %change in closing price', figsize = (17, 7))"
   ]
  },
  {
   "cell_type": "code",
   "execution_count": null,
   "metadata": {},
   "outputs": [],
   "source": [
    "pred_train = model.predict(x_train)\n",
    "scores = model.evaluate(x_train, y_train, verbose =0)\n",
    "print('Accuracy on training data: {}% \\n Error on training data: {}'.format(scores[1], 1 - scores[1]))\n",
    "\n",
    "pred_test = model.predict(x_test)\n",
    "scores2 = model.evaluate(x_test, y_test, verbose =0)\n",
    "print('Accuracy on test data: {}% \\n Error on test data: {}'.format(scores2[1], 1 - scores2[1]))"
   ]
  },
  {
   "cell_type": "markdown",
   "metadata": {},
   "source": [
    "Save Model"
   ]
  },
  {
   "cell_type": "code",
   "execution_count": null,
   "metadata": {},
   "outputs": [],
   "source": [
    "model_str = json.dumps(serialize_keras_object(model)) #turn model jason object"
   ]
  },
  {
   "cell_type": "code",
   "execution_count": null,
   "metadata": {},
   "outputs": [],
   "source": [
    "model_key = 'bitcoin_price_predictor' # give model a name"
   ]
  },
  {
   "cell_type": "code",
   "execution_count": null,
   "metadata": {},
   "outputs": [],
   "source": [
    "qb.ObjectStore.Save(model_key, model_str) # save the model"
   ]
  },
  {
   "cell_type": "markdown",
   "metadata": {},
   "source": [
    "Load Model"
   ]
  },
  {
   "cell_type": "code",
   "execution_count": null,
   "metadata": {},
   "outputs": [],
   "source": [
    "if qb.ObjectStore.ContainsKey(model_key):\n",
    "    model_str = qb.ObjectStore.Read(model_key)\n",
    "    config = json.loads(model_str)['config']\n",
    "    model = Sequential.from_config(config)"
   ]
  },
  {
   "cell_type": "code",
   "execution_count": null,
   "metadata": {},
   "outputs": [],
   "source": [
    "testDate = datetime.now()"
   ]
  },
  {
   "cell_type": "code",
   "execution_count": null,
   "metadata": {},
   "outputs": [],
   "source": [
    "df = qb.History(symbol, testDate - timedelta(40), testDate).loc[symbol]\n",
    "df_change = df[[\"open\", \"high\", \"low\", \"close\", \"volume\"]].pct_change().dropna()\n",
    "model_input = []\n",
    "for index, row in df_change.tail(30).iterrows():\n",
    "    model_input.append(np.array(row))\n",
    "model_input = np.array([model_input])\n",
    "print(model_input)   \n"
   ]
  },
  {
   "cell_type": "code",
   "execution_count": null,
   "metadata": {},
   "outputs": [],
   "source": [
    "print(model.predict(model_input)[0][0])\n",
    "if round(model.predict(model_input)[0][0]) == 0:\n",
    "    print(\"down\")\n",
    "else:\n",
    "    print(\"up\")  "
   ]
  }
 ],
 "metadata": {
  "language_info": {
   "name": "python"
  }
 },
 "nbformat": 4,
 "nbformat_minor": 2
}
